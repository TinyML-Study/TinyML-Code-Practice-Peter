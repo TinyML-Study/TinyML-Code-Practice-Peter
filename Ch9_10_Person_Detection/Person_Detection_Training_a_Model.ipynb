{
 "cells": [
  {
   "cell_type": "markdown",
   "metadata": {},
   "source": [
    "## Greeting"
   ]
  },
  {
   "cell_type": "code",
   "execution_count": 1,
   "metadata": {},
   "outputs": [
    {
     "name": "stdout",
     "output_type": "stream",
     "text": [
      "Hello World!!\n"
     ]
    }
   ],
   "source": [
    "print(\"Hello World!!\")"
   ]
  },
  {
   "cell_type": "markdown",
   "metadata": {},
   "source": [
    "## Install tf.slim"
   ]
  },
  {
   "cell_type": "code",
   "execution_count": 2,
   "metadata": {},
   "outputs": [],
   "source": [
    "!cd ~"
   ]
  },
  {
   "cell_type": "code",
   "execution_count": 5,
   "metadata": {},
   "outputs": [
    {
     "name": "stdout",
     "output_type": "stream",
     "text": [
      "Cloning into 'models'...\n",
      "remote: Enumerating objects: 97, done.\u001b[K\n",
      "remote: Counting objects: 100% (97/97), done.\u001b[K\n",
      "remote: Compressing objects: 100% (95/95), done.\u001b[K\n",
      "remote: Total 44508 (delta 54), reused 45 (delta 2), pack-reused 44411\u001b[K\n",
      "Receiving objects: 100% (44508/44508), 550.54 MiB | 48.73 MiB/s, done.\n",
      "Resolving deltas: 100% (30378/30378), done.\n"
     ]
    }
   ],
   "source": [
    "!git clone https://github.com/tensorflow/models.git"
   ]
  },
  {
   "cell_type": "code",
   "execution_count": 6,
   "metadata": {},
   "outputs": [
    {
     "name": "stdout",
     "output_type": "stream",
     "text": [
      "Requirement already satisfied: contextlib2 in /opt/conda/lib/python3.7/site-packages (0.6.0.post1)\n"
     ]
    }
   ],
   "source": [
    "! pip install contextlib2"
   ]
  },
  {
   "cell_type": "code",
   "execution_count": 7,
   "metadata": {},
   "outputs": [],
   "source": [
    "import os"
   ]
  },
  {
   "cell_type": "code",
   "execution_count": 8,
   "metadata": {},
   "outputs": [
    {
     "name": "stdout",
     "output_type": "stream",
     "text": [
      "env: PYTHONPATH=:models/research/slim\n"
     ]
    }
   ],
   "source": [
    "new_python_path = (os.environ.get(\"PYTHONPATH\") or '') + \":models/research/slim\"\n",
    "%env PYTHONPATH = $new_python_path"
   ]
  },
  {
   "cell_type": "code",
   "execution_count": 14,
   "metadata": {},
   "outputs": [
    {
     "name": "stdout",
     "output_type": "stream",
     "text": [
      ":models/research/slim\n"
     ]
    }
   ],
   "source": [
    "! echo $PYTHONPATH"
   ]
  },
  {
   "cell_type": "code",
   "execution_count": 22,
   "metadata": {},
   "outputs": [],
   "source": [
    "os.chdir('./models/research/slim')"
   ]
  },
  {
   "cell_type": "markdown",
   "metadata": {},
   "source": [
    "## Download datasets"
   ]
  },
  {
   "cell_type": "code",
   "execution_count": null,
   "metadata": {},
   "outputs": [],
   "source": [
    "! python download_and_convert_data.py \\\n",
    "  --dataset_name=visualwakewords \\\n",
    "  --dataset_dir=data/visualwakewords"
   ]
  },
  {
   "cell_type": "markdown",
   "metadata": {},
   "source": [
    "## Training"
   ]
  },
  {
   "cell_type": "code",
   "execution_count": 29,
   "metadata": {},
   "outputs": [
    {
     "name": "stdout",
     "output_type": "stream",
     "text": [
      "Traceback (most recent call last):\n",
      "  File \"train_image_classifier.py\", line 22, in <module>\n",
      "    import tf_slim as slim\n",
      "ModuleNotFoundError: No module named 'tf_slim'\n"
     ]
    }
   ],
   "source": [
    "! python train_image_classifier.py \\\n",
    "    --train_dir = vww_96_grayscale \\\n",
    "    --dataset_name = visualwakewords \\\n",
    "    --dataset_split_name = train \\\n",
    "    --dataset_dir = data/visualwakeworkds \\\n",
    "    --model_name = mobilenet_v1_025 \\\n",
    "    --preprocessing_name = mobilenet_v1 \\\n",
    "    --train_image_size = 96 \\\n",
    "    --use_grayscale = True \\\n",
    "    --save_summaries_secs = 300 \\\n",
    "    --learning_rate = 0.045 \\\n",
    "    --label_smoothing = 0.1 \\\n",
    "    --learning_rate_decay_factor = 0.98 \\\n",
    "    --num_epochs_per_decay = 2.5 \\\n",
    "    --moving_average_decay = 0.9999 \\\n",
    "    --batch_size = 96 \\\n",
    "    --max_number_of_steps = 1000000"
   ]
  },
  {
   "cell_type": "markdown",
   "metadata": {},
   "source": [
    "## Evaluating the Model"
   ]
  },
  {
   "cell_type": "code",
   "execution_count": null,
   "metadata": {},
   "outputs": [],
   "source": [
    "! python eval_image_classifier.py \\\n",
    "    --alsologtostderr \\\n",
    "    --checkpoint_path = vww_96_grayscale/model.ckpt-698580 \\\n",
    "    --dataset_dir = data/visualwakewords \\\n",
    "    --dataset_name = visualwakewords \\\n",
    "    --dataset_split_name = val \\\n",
    "    --model_name=mobilenet_v1_025 \\\n",
    "    --preprocessing_name = mobilenet_v1 \\\n",
    "    --use_grayscale = True \\\n",
    "    --train_image_size = 96"
   ]
  },
  {
   "cell_type": "markdown",
   "metadata": {},
   "source": [
    "## Exporting the Model to TensorFlow Lite"
   ]
  },
  {
   "cell_type": "markdown",
   "metadata": {},
   "source": [
    "### Exporting to a GraphDef Protobuf File"
   ]
  },
  {
   "cell_type": "code",
   "execution_count": null,
   "metadata": {},
   "outputs": [],
   "source": [
    "! python export_inference_graph.py \\\n",
    "    --alsologtostderr \\\n",
    "    --dataset_name = visualwakewords \\\n",
    "    --model_name = mobilenet_v1_025 \\\n",
    "    --image_size = 96 \\\n",
    "    --use_grayscale = True \\\n",
    "    --output_file = vww_96_grayscale_graph.pb"
   ]
  },
  {
   "cell_type": "markdown",
   "metadata": {},
   "source": [
    "### Freezing the Weights"
   ]
  },
  {
   "cell_type": "code",
   "execution_count": 35,
   "metadata": {},
   "outputs": [],
   "source": [
    "os.chdir('/')"
   ]
  },
  {
   "cell_type": "code",
   "execution_count": null,
   "metadata": {},
   "outputs": [],
   "source": [
    "! git clone https://github.com/tensorflow/tensorflow\n",
    "! python tensorflow/tensorflow/python/tools/freeze_graph.py \\\n",
    "    --input_graph = vww_96_grayscale_graph.pb \\\n",
    "    --input_checkpoint - vww_96_grayscale/model.ckpt-1000000 \\\n",
    "    --input_binary=true --output_graph = vww_96_grayscale_frozen.pb \\\n",
    "    --output_node_names = MobilenetV1/Predictions/Reshape_1"
   ]
  },
  {
   "cell_type": "code",
   "execution_count": null,
   "metadata": {},
   "outputs": [],
   "source": []
  }
 ],
 "metadata": {
  "environment": {
   "name": "tf-gpu.1-15.m55",
   "type": "gcloud",
   "uri": "gcr.io/deeplearning-platform-release/tf-gpu.1-15:m55"
  },
  "kernelspec": {
   "display_name": "Python 3",
   "language": "python",
   "name": "python3"
  },
  "language_info": {
   "codemirror_mode": {
    "name": "ipython",
    "version": 3
   },
   "file_extension": ".py",
   "mimetype": "text/x-python",
   "name": "python",
   "nbconvert_exporter": "python",
   "pygments_lexer": "ipython3",
   "version": "3.7.8"
  }
 },
 "nbformat": 4,
 "nbformat_minor": 4
}
